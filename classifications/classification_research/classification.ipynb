{
 "cells": [
  {
   "cell_type": "code",
   "execution_count": 88,
   "outputs": [],
   "source": [
    "#pip install opencv-python\n",
    "import cv2\n",
    "import numpy as np\n",
    "import os\n",
    "from random import shuffle\n",
    "from tqdm import tqdm\n",
    "\n",
    "TRAIN_DIR = './data/train'\n",
    "TEST_DIR = './data/validation'\n",
    "IMG_SIZE = 50\n",
    "LR = 1e-3\n",
    "EPOCHE = 10\n",
    "\n",
    "MODEL_NAME = 'dog_vs_cat-{}-{}.model'.format(LR, '8conv-10epoche')"
   ],
   "metadata": {
    "collapsed": false,
    "ExecuteTime": {
     "start_time": "2023-05-09T14:07:22.455053Z",
     "end_time": "2023-05-09T14:07:22.549228Z"
    }
   }
  },
  {
   "cell_type": "code",
   "execution_count": 89,
   "outputs": [],
   "source": [
    "# [catness, dogness]\n",
    "def label_image(img):\n",
    "    label = img.split('.')[-3]\n",
    "    if label == 'cat':\n",
    "        return [1,0]\n",
    "    else:\n",
    "        return [0,1]"
   ],
   "metadata": {
    "collapsed": false,
    "ExecuteTime": {
     "start_time": "2023-05-09T14:07:22.470685Z",
     "end_time": "2023-05-09T14:07:22.549228Z"
    }
   }
  },
  {
   "cell_type": "code",
   "execution_count": 90,
   "outputs": [],
   "source": [
    "def create_train_data():\n",
    "    train_data = []\n",
    "    for img in tqdm(os.listdir(TRAIN_DIR)):\n",
    "        label = label_image(img)\n",
    "        path = os.path.join(TRAIN_DIR, img)\n",
    "        img = cv2.resize(cv2.imread(path, cv2.IMREAD_GRAYSCALE), (IMG_SIZE, IMG_SIZE))\n",
    "        train_data.append([np.array(img), np.array(label)])\n",
    "    shuffle(train_data)\n",
    "    np.save('train_data.npy', train_data)\n",
    "    return train_data"
   ],
   "metadata": {
    "collapsed": false,
    "ExecuteTime": {
     "start_time": "2023-05-09T14:07:22.486314Z",
     "end_time": "2023-05-09T14:07:22.549228Z"
    }
   }
  },
  {
   "cell_type": "code",
   "execution_count": 91,
   "outputs": [
    {
     "name": "stderr",
     "output_type": "stream",
     "text": [
      "  0%|          | 0/2001 [00:00<?, ?it/s]"
     ]
    },
    {
     "name": "stdout",
     "output_type": "stream",
     "text": [
      "<class 'str'>\n"
     ]
    },
    {
     "name": "stderr",
     "output_type": "stream",
     "text": [
      "\n"
     ]
    }
   ],
   "source": [
    "for img in tqdm(os.listdir(TRAIN_DIR)):\n",
    "    print(type(img))\n",
    "    break;"
   ],
   "metadata": {
    "collapsed": false,
    "ExecuteTime": {
     "start_time": "2023-05-09T14:07:22.501943Z",
     "end_time": "2023-05-09T14:07:22.549228Z"
    }
   }
  },
  {
   "cell_type": "code",
   "execution_count": 92,
   "metadata": {
    "ExecuteTime": {
     "start_time": "2023-05-09T14:07:22.533594Z",
     "end_time": "2023-05-09T14:07:22.549228Z"
    }
   },
   "outputs": [],
   "source": [
    "def create_test_data():\n",
    "    test_data = []\n",
    "    for img in tqdm(os.listdir(TEST_DIR)):\n",
    "        path = os.path.join(TEST_DIR, img)\n",
    "        img_id = img.split('.')[0]\n",
    "        img = cv2.resize(cv2.imread(path, cv2.IMREAD_GRAYSCALE), (IMG_SIZE, IMG_SIZE))\n",
    "        test_data.append([np.array(img), img_id])\n",
    "    np.save('test_data.npy', test_data)\n",
    "    return test_data\n",
    "    "
   ]
  },
  {
   "cell_type": "code",
   "execution_count": 93,
   "metadata": {
    "ExecuteTime": {
     "start_time": "2023-05-09T14:07:22.549228Z",
     "end_time": "2023-05-09T14:07:25.437219Z"
    }
   },
   "outputs": [
    {
     "name": "stderr",
     "output_type": "stream",
     "text": [
      "100%|██████████| 2001/2001 [00:02<00:00, 716.22it/s]\n"
     ]
    }
   ],
   "source": [
    "train_data = create_train_data()\n",
    "train_data = np.load('train_data.npy', allow_pickle=True)\n",
    "# if you already run this function"
   ]
  },
  {
   "cell_type": "code",
   "execution_count": 94,
   "metadata": {
    "ExecuteTime": {
     "start_time": "2023-05-09T14:07:25.452853Z",
     "end_time": "2023-05-09T14:07:31.019757Z"
    }
   },
   "outputs": [],
   "source": [
    "import tflearn\n",
    "from tflearn.layers.conv import conv_2d, max_pool_2d\n",
    "from tflearn.layers.core import input_data, dropout, fully_connected\n",
    "from tflearn.layers.estimator import regression\n",
    "\n",
    "\n",
    "convnet = input_data(shape=[None, IMG_SIZE, IMG_SIZE, 1], name='input')\n",
    "\n",
    "#layer\n",
    "convnet = conv_2d(convnet, 32, 2, activation='relu')\n",
    "convnet = max_pool_2d(convnet, 2)\n",
    "\n",
    "#layer\n",
    "convnet = conv_2d(convnet, 64, 2, activation='relu')\n",
    "convnet = max_pool_2d(convnet, 2)\n",
    "\n",
    "#layer\n",
    "convnet = conv_2d(convnet, 32, 2, activation='relu')\n",
    "convnet = max_pool_2d(convnet, 2)\n",
    "\n",
    "#layer\n",
    "convnet = conv_2d(convnet, 64, 2, activation='relu')\n",
    "convnet = max_pool_2d(convnet, 2)\n",
    "\n",
    "#layer\n",
    "convnet = conv_2d(convnet, 32, 2, activation='relu')\n",
    "convnet = max_pool_2d(convnet, 2)\n",
    "\n",
    "#layer\n",
    "convnet = conv_2d(convnet, 64, 2, activation='relu')\n",
    "convnet = max_pool_2d(convnet, 2)\n",
    "\n",
    "#layer\n",
    "convnet = conv_2d(convnet, 32, 2, activation='relu')\n",
    "convnet = max_pool_2d(convnet, 2)\n",
    "\n",
    "#layer\n",
    "convnet = conv_2d(convnet, 64, 2, activation='relu')\n",
    "convnet = max_pool_2d(convnet, 2)\n",
    "\n",
    "convnet = fully_connected(convnet, 1024, activation='relu')\n",
    "convnet = dropout(convnet, 0.8)\n",
    "\n",
    "convnet = fully_connected(convnet, 2, activation='softmax')\n",
    "convnet = regression(convnet, optimizer='adam', learning_rate=LR, loss='categorical_crossentropy', name='targets')\n",
    "\n",
    "model = tflearn.DNN(convnet, tensorboard_dir='log')\n"
   ]
  },
  {
   "cell_type": "code",
   "execution_count": 95,
   "metadata": {
    "ExecuteTime": {
     "start_time": "2023-05-09T14:07:31.023628Z",
     "end_time": "2023-05-09T14:07:31.039645Z"
    }
   },
   "outputs": [
    {
     "data": {
      "text/plain": "(50, 50)"
     },
     "execution_count": 95,
     "metadata": {},
     "output_type": "execute_result"
    }
   ],
   "source": [
    "train_data[0][0].shape"
   ]
  },
  {
   "cell_type": "code",
   "execution_count": 96,
   "metadata": {
    "ExecuteTime": {
     "start_time": "2023-05-09T13:57:05.389118Z",
     "end_time": "2023-05-09T13:57:05.803085Z"
    }
   },
   "outputs": [
    {
     "name": "stdout",
     "output_type": "stream",
     "text": [
      "INFO:tensorflow:Restoring parameters from C:\\Users\\duong\\PycharmProjects\\pythonProject2\\classifications\\classification_research\\dog_vs_cat-0.001-8conv-10epoche.model\n"
     ]
    },
    {
     "ename": "NotFoundError",
     "evalue": "Restoring from checkpoint failed. This is most likely due to a Variable name or other graph key that is missing from the checkpoint. Please ensure that you have not altered the graph expected based on the checkpoint. Original error:\n\nKey Accuracy/Mean/moving_avg_1 not found in checkpoint\n\t [[node save_18/RestoreV2 (defined at C:\\Users\\duong\\PycharmProjects\\pythonProject2\\venv\\lib\\site-packages\\tflearn\\helpers\\trainer.py:147) ]]\n\nCaused by op 'save_18/RestoreV2', defined at:\n  File \"C:\\Users\\duong\\AppData\\Local\\Programs\\Python\\Python37\\lib\\runpy.py\", line 193, in _run_module_as_main\n    \"__main__\", mod_spec)\n  File \"C:\\Users\\duong\\AppData\\Local\\Programs\\Python\\Python37\\lib\\runpy.py\", line 85, in _run_code\n    exec(code, run_globals)\n  File \"C:\\Users\\duong\\PycharmProjects\\pythonProject2\\venv\\lib\\site-packages\\ipykernel_launcher.py\", line 17, in <module>\n    app.launch_new_instance()\n  File \"C:\\Users\\duong\\PycharmProjects\\pythonProject2\\venv\\lib\\site-packages\\traitlets\\config\\application.py\", line 1043, in launch_instance\n    app.start()\n  File \"C:\\Users\\duong\\PycharmProjects\\pythonProject2\\venv\\lib\\site-packages\\ipykernel\\kernelapp.py\", line 712, in start\n    self.io_loop.start()\n  File \"C:\\Users\\duong\\PycharmProjects\\pythonProject2\\venv\\lib\\site-packages\\tornado\\platform\\asyncio.py\", line 215, in start\n    self.asyncio_loop.run_forever()\n  File \"C:\\Users\\duong\\AppData\\Local\\Programs\\Python\\Python37\\lib\\asyncio\\base_events.py\", line 538, in run_forever\n    self._run_once()\n  File \"C:\\Users\\duong\\AppData\\Local\\Programs\\Python\\Python37\\lib\\asyncio\\base_events.py\", line 1782, in _run_once\n    handle._run()\n  File \"C:\\Users\\duong\\AppData\\Local\\Programs\\Python\\Python37\\lib\\asyncio\\events.py\", line 88, in _run\n    self._context.run(self._callback, *self._args)\n  File \"C:\\Users\\duong\\PycharmProjects\\pythonProject2\\venv\\lib\\site-packages\\ipykernel\\kernelbase.py\", line 510, in dispatch_queue\n    await self.process_one()\n  File \"C:\\Users\\duong\\PycharmProjects\\pythonProject2\\venv\\lib\\site-packages\\ipykernel\\kernelbase.py\", line 499, in process_one\n    await dispatch(*args)\n  File \"C:\\Users\\duong\\PycharmProjects\\pythonProject2\\venv\\lib\\site-packages\\ipykernel\\kernelbase.py\", line 406, in dispatch_shell\n    await result\n  File \"C:\\Users\\duong\\PycharmProjects\\pythonProject2\\venv\\lib\\site-packages\\ipykernel\\kernelbase.py\", line 730, in execute_request\n    reply_content = await reply_content\n  File \"C:\\Users\\duong\\PycharmProjects\\pythonProject2\\venv\\lib\\site-packages\\ipykernel\\ipkernel.py\", line 387, in do_execute\n    cell_id=cell_id,\n  File \"C:\\Users\\duong\\PycharmProjects\\pythonProject2\\venv\\lib\\site-packages\\ipykernel\\zmqshell.py\", line 528, in run_cell\n    return super().run_cell(*args, **kwargs)\n  File \"C:\\Users\\duong\\PycharmProjects\\pythonProject2\\venv\\lib\\site-packages\\IPython\\core\\interactiveshell.py\", line 2976, in run_cell\n    raw_cell, store_history, silent, shell_futures, cell_id\n  File \"C:\\Users\\duong\\PycharmProjects\\pythonProject2\\venv\\lib\\site-packages\\IPython\\core\\interactiveshell.py\", line 3030, in _run_cell\n    return runner(coro)\n  File \"C:\\Users\\duong\\PycharmProjects\\pythonProject2\\venv\\lib\\site-packages\\IPython\\core\\async_helpers.py\", line 78, in _pseudo_sync_runner\n    coro.send(None)\n  File \"C:\\Users\\duong\\PycharmProjects\\pythonProject2\\venv\\lib\\site-packages\\IPython\\core\\interactiveshell.py\", line 3258, in run_cell_async\n    interactivity=interactivity, compiler=compiler, result=result)\n  File \"C:\\Users\\duong\\PycharmProjects\\pythonProject2\\venv\\lib\\site-packages\\IPython\\core\\interactiveshell.py\", line 3473, in run_ast_nodes\n    if (await self.run_code(code, result,  async_=asy)):\n  File \"C:\\Users\\duong\\PycharmProjects\\pythonProject2\\venv\\lib\\site-packages\\IPython\\core\\interactiveshell.py\", line 3553, in run_code\n    exec(code_obj, self.user_global_ns, self.user_ns)\n  File \"C:\\Users\\duong\\AppData\\Local\\Temp\\ipykernel_1028\\2511015419.py\", line 47, in <module>\n    model = tflearn.DNN(convnet, tensorboard_dir='log')\n  File \"C:\\Users\\duong\\PycharmProjects\\pythonProject2\\venv\\lib\\site-packages\\tflearn\\models\\dnn.py\", line 65, in __init__\n    best_val_accuracy=best_val_accuracy)\n  File \"C:\\Users\\duong\\PycharmProjects\\pythonProject2\\venv\\lib\\site-packages\\tflearn\\helpers\\trainer.py\", line 147, in __init__\n    allow_empty=True)\n  File \"C:\\Users\\duong\\PycharmProjects\\pythonProject2\\venv\\lib\\site-packages\\tensorflow\\python\\training\\saver.py\", line 832, in __init__\n    self.build()\n  File \"C:\\Users\\duong\\PycharmProjects\\pythonProject2\\venv\\lib\\site-packages\\tensorflow\\python\\training\\saver.py\", line 844, in build\n    self._build(self._filename, build_save=True, build_restore=True)\n  File \"C:\\Users\\duong\\PycharmProjects\\pythonProject2\\venv\\lib\\site-packages\\tensorflow\\python\\training\\saver.py\", line 881, in _build\n    build_save=build_save, build_restore=build_restore)\n  File \"C:\\Users\\duong\\PycharmProjects\\pythonProject2\\venv\\lib\\site-packages\\tensorflow\\python\\training\\saver.py\", line 513, in _build_internal\n    restore_sequentially, reshape)\n  File \"C:\\Users\\duong\\PycharmProjects\\pythonProject2\\venv\\lib\\site-packages\\tensorflow\\python\\training\\saver.py\", line 332, in _AddRestoreOps\n    restore_sequentially)\n  File \"C:\\Users\\duong\\PycharmProjects\\pythonProject2\\venv\\lib\\site-packages\\tensorflow\\python\\training\\saver.py\", line 580, in bulk_restore\n    return io_ops.restore_v2(filename_tensor, names, slices, dtypes)\n  File \"C:\\Users\\duong\\PycharmProjects\\pythonProject2\\venv\\lib\\site-packages\\tensorflow\\python\\ops\\gen_io_ops.py\", line 1655, in restore_v2\n    name=name)\n  File \"C:\\Users\\duong\\PycharmProjects\\pythonProject2\\venv\\lib\\site-packages\\tensorflow\\python\\framework\\op_def_library.py\", line 788, in _apply_op_helper\n    op_def=op_def)\n  File \"C:\\Users\\duong\\PycharmProjects\\pythonProject2\\venv\\lib\\site-packages\\tensorflow\\python\\util\\deprecation.py\", line 507, in new_func\n    return func(*args, **kwargs)\n  File \"C:\\Users\\duong\\PycharmProjects\\pythonProject2\\venv\\lib\\site-packages\\tensorflow\\python\\framework\\ops.py\", line 3300, in create_op\n    op_def=op_def)\n  File \"C:\\Users\\duong\\PycharmProjects\\pythonProject2\\venv\\lib\\site-packages\\tensorflow\\python\\framework\\ops.py\", line 1801, in __init__\n    self._traceback = tf_stack.extract_stack()\n\nNotFoundError (see above for traceback): Restoring from checkpoint failed. This is most likely due to a Variable name or other graph key that is missing from the checkpoint. Please ensure that you have not altered the graph expected based on the checkpoint. Original error:\n\nKey Accuracy/Mean/moving_avg_1 not found in checkpoint\n\t [[node save_18/RestoreV2 (defined at C:\\Users\\duong\\PycharmProjects\\pythonProject2\\venv\\lib\\site-packages\\tflearn\\helpers\\trainer.py:147) ]]\n",
     "output_type": "error",
     "traceback": [
      "\u001B[1;31m---------------------------------------------------------------------------\u001B[0m",
      "\u001B[1;31mNotFoundError\u001B[0m                             Traceback (most recent call last)",
      "\u001B[1;32m~\\PycharmProjects\\pythonProject2\\venv\\lib\\site-packages\\tensorflow\\python\\client\\session.py\u001B[0m in \u001B[0;36m_do_call\u001B[1;34m(self, fn, *args)\u001B[0m\n\u001B[0;32m   1333\u001B[0m     \u001B[1;32mtry\u001B[0m\u001B[1;33m:\u001B[0m\u001B[1;33m\u001B[0m\u001B[1;33m\u001B[0m\u001B[0m\n\u001B[1;32m-> 1334\u001B[1;33m       \u001B[1;32mreturn\u001B[0m \u001B[0mfn\u001B[0m\u001B[1;33m(\u001B[0m\u001B[1;33m*\u001B[0m\u001B[0margs\u001B[0m\u001B[1;33m)\u001B[0m\u001B[1;33m\u001B[0m\u001B[1;33m\u001B[0m\u001B[0m\n\u001B[0m\u001B[0;32m   1335\u001B[0m     \u001B[1;32mexcept\u001B[0m \u001B[0merrors\u001B[0m\u001B[1;33m.\u001B[0m\u001B[0mOpError\u001B[0m \u001B[1;32mas\u001B[0m \u001B[0me\u001B[0m\u001B[1;33m:\u001B[0m\u001B[1;33m\u001B[0m\u001B[1;33m\u001B[0m\u001B[0m\n",
      "\u001B[1;32m~\\PycharmProjects\\pythonProject2\\venv\\lib\\site-packages\\tensorflow\\python\\client\\session.py\u001B[0m in \u001B[0;36m_run_fn\u001B[1;34m(feed_dict, fetch_list, target_list, options, run_metadata)\u001B[0m\n\u001B[0;32m   1318\u001B[0m       return self._call_tf_sessionrun(\n\u001B[1;32m-> 1319\u001B[1;33m           options, feed_dict, fetch_list, target_list, run_metadata)\n\u001B[0m\u001B[0;32m   1320\u001B[0m \u001B[1;33m\u001B[0m\u001B[0m\n",
      "\u001B[1;32m~\\PycharmProjects\\pythonProject2\\venv\\lib\\site-packages\\tensorflow\\python\\client\\session.py\u001B[0m in \u001B[0;36m_call_tf_sessionrun\u001B[1;34m(self, options, feed_dict, fetch_list, target_list, run_metadata)\u001B[0m\n\u001B[0;32m   1406\u001B[0m         \u001B[0mself\u001B[0m\u001B[1;33m.\u001B[0m\u001B[0m_session\u001B[0m\u001B[1;33m,\u001B[0m \u001B[0moptions\u001B[0m\u001B[1;33m,\u001B[0m \u001B[0mfeed_dict\u001B[0m\u001B[1;33m,\u001B[0m \u001B[0mfetch_list\u001B[0m\u001B[1;33m,\u001B[0m \u001B[0mtarget_list\u001B[0m\u001B[1;33m,\u001B[0m\u001B[1;33m\u001B[0m\u001B[1;33m\u001B[0m\u001B[0m\n\u001B[1;32m-> 1407\u001B[1;33m         run_metadata)\n\u001B[0m\u001B[0;32m   1408\u001B[0m \u001B[1;33m\u001B[0m\u001B[0m\n",
      "\u001B[1;31mNotFoundError\u001B[0m: Key Accuracy/Mean/moving_avg_1 not found in checkpoint\n\t [[{{node save_18/RestoreV2}}]]",
      "\nDuring handling of the above exception, another exception occurred:\n",
      "\u001B[1;31mNotFoundError\u001B[0m                             Traceback (most recent call last)",
      "\u001B[1;32m~\\PycharmProjects\\pythonProject2\\venv\\lib\\site-packages\\tensorflow\\python\\training\\saver.py\u001B[0m in \u001B[0;36mrestore\u001B[1;34m(self, sess, save_path)\u001B[0m\n\u001B[0;32m   1275\u001B[0m         sess.run(self.saver_def.restore_op_name,\n\u001B[1;32m-> 1276\u001B[1;33m                  {self.saver_def.filename_tensor_name: save_path})\n\u001B[0m\u001B[0;32m   1277\u001B[0m     \u001B[1;32mexcept\u001B[0m \u001B[0merrors\u001B[0m\u001B[1;33m.\u001B[0m\u001B[0mNotFoundError\u001B[0m \u001B[1;32mas\u001B[0m \u001B[0merr\u001B[0m\u001B[1;33m:\u001B[0m\u001B[1;33m\u001B[0m\u001B[1;33m\u001B[0m\u001B[0m\n",
      "\u001B[1;32m~\\PycharmProjects\\pythonProject2\\venv\\lib\\site-packages\\tensorflow\\python\\client\\session.py\u001B[0m in \u001B[0;36mrun\u001B[1;34m(self, fetches, feed_dict, options, run_metadata)\u001B[0m\n\u001B[0;32m    928\u001B[0m       result = self._run(None, fetches, feed_dict, options_ptr,\n\u001B[1;32m--> 929\u001B[1;33m                          run_metadata_ptr)\n\u001B[0m\u001B[0;32m    930\u001B[0m       \u001B[1;32mif\u001B[0m \u001B[0mrun_metadata\u001B[0m\u001B[1;33m:\u001B[0m\u001B[1;33m\u001B[0m\u001B[1;33m\u001B[0m\u001B[0m\n",
      "\u001B[1;32m~\\PycharmProjects\\pythonProject2\\venv\\lib\\site-packages\\tensorflow\\python\\client\\session.py\u001B[0m in \u001B[0;36m_run\u001B[1;34m(self, handle, fetches, feed_dict, options, run_metadata)\u001B[0m\n\u001B[0;32m   1151\u001B[0m       results = self._do_run(handle, final_targets, final_fetches,\n\u001B[1;32m-> 1152\u001B[1;33m                              feed_dict_tensor, options, run_metadata)\n\u001B[0m\u001B[0;32m   1153\u001B[0m     \u001B[1;32melse\u001B[0m\u001B[1;33m:\u001B[0m\u001B[1;33m\u001B[0m\u001B[1;33m\u001B[0m\u001B[0m\n",
      "\u001B[1;32m~\\PycharmProjects\\pythonProject2\\venv\\lib\\site-packages\\tensorflow\\python\\client\\session.py\u001B[0m in \u001B[0;36m_do_run\u001B[1;34m(self, handle, target_list, fetch_list, feed_dict, options, run_metadata)\u001B[0m\n\u001B[0;32m   1327\u001B[0m       return self._do_call(_run_fn, feeds, fetches, targets, options,\n\u001B[1;32m-> 1328\u001B[1;33m                            run_metadata)\n\u001B[0m\u001B[0;32m   1329\u001B[0m     \u001B[1;32melse\u001B[0m\u001B[1;33m:\u001B[0m\u001B[1;33m\u001B[0m\u001B[1;33m\u001B[0m\u001B[0m\n",
      "\u001B[1;32m~\\PycharmProjects\\pythonProject2\\venv\\lib\\site-packages\\tensorflow\\python\\client\\session.py\u001B[0m in \u001B[0;36m_do_call\u001B[1;34m(self, fn, *args)\u001B[0m\n\u001B[0;32m   1347\u001B[0m       \u001B[0mmessage\u001B[0m \u001B[1;33m=\u001B[0m \u001B[0merror_interpolation\u001B[0m\u001B[1;33m.\u001B[0m\u001B[0minterpolate\u001B[0m\u001B[1;33m(\u001B[0m\u001B[0mmessage\u001B[0m\u001B[1;33m,\u001B[0m \u001B[0mself\u001B[0m\u001B[1;33m.\u001B[0m\u001B[0m_graph\u001B[0m\u001B[1;33m)\u001B[0m\u001B[1;33m\u001B[0m\u001B[1;33m\u001B[0m\u001B[0m\n\u001B[1;32m-> 1348\u001B[1;33m       \u001B[1;32mraise\u001B[0m \u001B[0mtype\u001B[0m\u001B[1;33m(\u001B[0m\u001B[0me\u001B[0m\u001B[1;33m)\u001B[0m\u001B[1;33m(\u001B[0m\u001B[0mnode_def\u001B[0m\u001B[1;33m,\u001B[0m \u001B[0mop\u001B[0m\u001B[1;33m,\u001B[0m \u001B[0mmessage\u001B[0m\u001B[1;33m)\u001B[0m\u001B[1;33m\u001B[0m\u001B[1;33m\u001B[0m\u001B[0m\n\u001B[0m\u001B[0;32m   1349\u001B[0m \u001B[1;33m\u001B[0m\u001B[0m\n",
      "\u001B[1;31mNotFoundError\u001B[0m: Key Accuracy/Mean/moving_avg_1 not found in checkpoint\n\t [[node save_18/RestoreV2 (defined at C:\\Users\\duong\\PycharmProjects\\pythonProject2\\venv\\lib\\site-packages\\tflearn\\helpers\\trainer.py:147) ]]\n\nCaused by op 'save_18/RestoreV2', defined at:\n  File \"C:\\Users\\duong\\AppData\\Local\\Programs\\Python\\Python37\\lib\\runpy.py\", line 193, in _run_module_as_main\n    \"__main__\", mod_spec)\n  File \"C:\\Users\\duong\\AppData\\Local\\Programs\\Python\\Python37\\lib\\runpy.py\", line 85, in _run_code\n    exec(code, run_globals)\n  File \"C:\\Users\\duong\\PycharmProjects\\pythonProject2\\venv\\lib\\site-packages\\ipykernel_launcher.py\", line 17, in <module>\n    app.launch_new_instance()\n  File \"C:\\Users\\duong\\PycharmProjects\\pythonProject2\\venv\\lib\\site-packages\\traitlets\\config\\application.py\", line 1043, in launch_instance\n    app.start()\n  File \"C:\\Users\\duong\\PycharmProjects\\pythonProject2\\venv\\lib\\site-packages\\ipykernel\\kernelapp.py\", line 712, in start\n    self.io_loop.start()\n  File \"C:\\Users\\duong\\PycharmProjects\\pythonProject2\\venv\\lib\\site-packages\\tornado\\platform\\asyncio.py\", line 215, in start\n    self.asyncio_loop.run_forever()\n  File \"C:\\Users\\duong\\AppData\\Local\\Programs\\Python\\Python37\\lib\\asyncio\\base_events.py\", line 538, in run_forever\n    self._run_once()\n  File \"C:\\Users\\duong\\AppData\\Local\\Programs\\Python\\Python37\\lib\\asyncio\\base_events.py\", line 1782, in _run_once\n    handle._run()\n  File \"C:\\Users\\duong\\AppData\\Local\\Programs\\Python\\Python37\\lib\\asyncio\\events.py\", line 88, in _run\n    self._context.run(self._callback, *self._args)\n  File \"C:\\Users\\duong\\PycharmProjects\\pythonProject2\\venv\\lib\\site-packages\\ipykernel\\kernelbase.py\", line 510, in dispatch_queue\n    await self.process_one()\n  File \"C:\\Users\\duong\\PycharmProjects\\pythonProject2\\venv\\lib\\site-packages\\ipykernel\\kernelbase.py\", line 499, in process_one\n    await dispatch(*args)\n  File \"C:\\Users\\duong\\PycharmProjects\\pythonProject2\\venv\\lib\\site-packages\\ipykernel\\kernelbase.py\", line 406, in dispatch_shell\n    await result\n  File \"C:\\Users\\duong\\PycharmProjects\\pythonProject2\\venv\\lib\\site-packages\\ipykernel\\kernelbase.py\", line 730, in execute_request\n    reply_content = await reply_content\n  File \"C:\\Users\\duong\\PycharmProjects\\pythonProject2\\venv\\lib\\site-packages\\ipykernel\\ipkernel.py\", line 387, in do_execute\n    cell_id=cell_id,\n  File \"C:\\Users\\duong\\PycharmProjects\\pythonProject2\\venv\\lib\\site-packages\\ipykernel\\zmqshell.py\", line 528, in run_cell\n    return super().run_cell(*args, **kwargs)\n  File \"C:\\Users\\duong\\PycharmProjects\\pythonProject2\\venv\\lib\\site-packages\\IPython\\core\\interactiveshell.py\", line 2976, in run_cell\n    raw_cell, store_history, silent, shell_futures, cell_id\n  File \"C:\\Users\\duong\\PycharmProjects\\pythonProject2\\venv\\lib\\site-packages\\IPython\\core\\interactiveshell.py\", line 3030, in _run_cell\n    return runner(coro)\n  File \"C:\\Users\\duong\\PycharmProjects\\pythonProject2\\venv\\lib\\site-packages\\IPython\\core\\async_helpers.py\", line 78, in _pseudo_sync_runner\n    coro.send(None)\n  File \"C:\\Users\\duong\\PycharmProjects\\pythonProject2\\venv\\lib\\site-packages\\IPython\\core\\interactiveshell.py\", line 3258, in run_cell_async\n    interactivity=interactivity, compiler=compiler, result=result)\n  File \"C:\\Users\\duong\\PycharmProjects\\pythonProject2\\venv\\lib\\site-packages\\IPython\\core\\interactiveshell.py\", line 3473, in run_ast_nodes\n    if (await self.run_code(code, result,  async_=asy)):\n  File \"C:\\Users\\duong\\PycharmProjects\\pythonProject2\\venv\\lib\\site-packages\\IPython\\core\\interactiveshell.py\", line 3553, in run_code\n    exec(code_obj, self.user_global_ns, self.user_ns)\n  File \"C:\\Users\\duong\\AppData\\Local\\Temp\\ipykernel_1028\\2511015419.py\", line 47, in <module>\n    model = tflearn.DNN(convnet, tensorboard_dir='log')\n  File \"C:\\Users\\duong\\PycharmProjects\\pythonProject2\\venv\\lib\\site-packages\\tflearn\\models\\dnn.py\", line 65, in __init__\n    best_val_accuracy=best_val_accuracy)\n  File \"C:\\Users\\duong\\PycharmProjects\\pythonProject2\\venv\\lib\\site-packages\\tflearn\\helpers\\trainer.py\", line 147, in __init__\n    allow_empty=True)\n  File \"C:\\Users\\duong\\PycharmProjects\\pythonProject2\\venv\\lib\\site-packages\\tensorflow\\python\\training\\saver.py\", line 832, in __init__\n    self.build()\n  File \"C:\\Users\\duong\\PycharmProjects\\pythonProject2\\venv\\lib\\site-packages\\tensorflow\\python\\training\\saver.py\", line 844, in build\n    self._build(self._filename, build_save=True, build_restore=True)\n  File \"C:\\Users\\duong\\PycharmProjects\\pythonProject2\\venv\\lib\\site-packages\\tensorflow\\python\\training\\saver.py\", line 881, in _build\n    build_save=build_save, build_restore=build_restore)\n  File \"C:\\Users\\duong\\PycharmProjects\\pythonProject2\\venv\\lib\\site-packages\\tensorflow\\python\\training\\saver.py\", line 513, in _build_internal\n    restore_sequentially, reshape)\n  File \"C:\\Users\\duong\\PycharmProjects\\pythonProject2\\venv\\lib\\site-packages\\tensorflow\\python\\training\\saver.py\", line 332, in _AddRestoreOps\n    restore_sequentially)\n  File \"C:\\Users\\duong\\PycharmProjects\\pythonProject2\\venv\\lib\\site-packages\\tensorflow\\python\\training\\saver.py\", line 580, in bulk_restore\n    return io_ops.restore_v2(filename_tensor, names, slices, dtypes)\n  File \"C:\\Users\\duong\\PycharmProjects\\pythonProject2\\venv\\lib\\site-packages\\tensorflow\\python\\ops\\gen_io_ops.py\", line 1655, in restore_v2\n    name=name)\n  File \"C:\\Users\\duong\\PycharmProjects\\pythonProject2\\venv\\lib\\site-packages\\tensorflow\\python\\framework\\op_def_library.py\", line 788, in _apply_op_helper\n    op_def=op_def)\n  File \"C:\\Users\\duong\\PycharmProjects\\pythonProject2\\venv\\lib\\site-packages\\tensorflow\\python\\util\\deprecation.py\", line 507, in new_func\n    return func(*args, **kwargs)\n  File \"C:\\Users\\duong\\PycharmProjects\\pythonProject2\\venv\\lib\\site-packages\\tensorflow\\python\\framework\\ops.py\", line 3300, in create_op\n    op_def=op_def)\n  File \"C:\\Users\\duong\\PycharmProjects\\pythonProject2\\venv\\lib\\site-packages\\tensorflow\\python\\framework\\ops.py\", line 1801, in __init__\n    self._traceback = tf_stack.extract_stack()\n\nNotFoundError (see above for traceback): Key Accuracy/Mean/moving_avg_1 not found in checkpoint\n\t [[node save_18/RestoreV2 (defined at C:\\Users\\duong\\PycharmProjects\\pythonProject2\\venv\\lib\\site-packages\\tflearn\\helpers\\trainer.py:147) ]]\n",
      "\nDuring handling of the above exception, another exception occurred:\n",
      "\u001B[1;31mNotFoundError\u001B[0m                             Traceback (most recent call last)",
      "\u001B[1;32m~\\PycharmProjects\\pythonProject2\\venv\\lib\\site-packages\\tensorflow\\python\\training\\saver.py\u001B[0m in \u001B[0;36mrestore\u001B[1;34m(self, sess, save_path)\u001B[0m\n\u001B[0;32m   1285\u001B[0m       \u001B[1;32mtry\u001B[0m\u001B[1;33m:\u001B[0m\u001B[1;33m\u001B[0m\u001B[1;33m\u001B[0m\u001B[0m\n\u001B[1;32m-> 1286\u001B[1;33m         \u001B[0mnames_to_keys\u001B[0m \u001B[1;33m=\u001B[0m \u001B[0mobject_graph_key_mapping\u001B[0m\u001B[1;33m(\u001B[0m\u001B[0msave_path\u001B[0m\u001B[1;33m)\u001B[0m\u001B[1;33m\u001B[0m\u001B[1;33m\u001B[0m\u001B[0m\n\u001B[0m\u001B[0;32m   1287\u001B[0m       \u001B[1;32mexcept\u001B[0m \u001B[0merrors\u001B[0m\u001B[1;33m.\u001B[0m\u001B[0mNotFoundError\u001B[0m\u001B[1;33m:\u001B[0m\u001B[1;33m\u001B[0m\u001B[1;33m\u001B[0m\u001B[0m\n",
      "\u001B[1;32m~\\PycharmProjects\\pythonProject2\\venv\\lib\\site-packages\\tensorflow\\python\\training\\saver.py\u001B[0m in \u001B[0;36mobject_graph_key_mapping\u001B[1;34m(checkpoint_path)\u001B[0m\n\u001B[0;32m   1590\u001B[0m   object_graph_string = reader.get_tensor(\n\u001B[1;32m-> 1591\u001B[1;33m       checkpointable.OBJECT_GRAPH_PROTO_KEY)\n\u001B[0m\u001B[0;32m   1592\u001B[0m   object_graph_proto = (\n",
      "\u001B[1;32m~\\PycharmProjects\\pythonProject2\\venv\\lib\\site-packages\\tensorflow\\python\\pywrap_tensorflow_internal.py\u001B[0m in \u001B[0;36mget_tensor\u001B[1;34m(self, tensor_str)\u001B[0m\n\u001B[0;32m    369\u001B[0m         return CheckpointReader_GetTensor(self, compat.as_bytes(tensor_str),\n\u001B[1;32m--> 370\u001B[1;33m                                           status)\n\u001B[0m\u001B[0;32m    371\u001B[0m \u001B[1;33m\u001B[0m\u001B[0m\n",
      "\u001B[1;32m~\\PycharmProjects\\pythonProject2\\venv\\lib\\site-packages\\tensorflow\\python\\framework\\errors_impl.py\u001B[0m in \u001B[0;36m__exit__\u001B[1;34m(self, type_arg, value_arg, traceback_arg)\u001B[0m\n\u001B[0;32m    527\u001B[0m             \u001B[0mcompat\u001B[0m\u001B[1;33m.\u001B[0m\u001B[0mas_text\u001B[0m\u001B[1;33m(\u001B[0m\u001B[0mc_api\u001B[0m\u001B[1;33m.\u001B[0m\u001B[0mTF_Message\u001B[0m\u001B[1;33m(\u001B[0m\u001B[0mself\u001B[0m\u001B[1;33m.\u001B[0m\u001B[0mstatus\u001B[0m\u001B[1;33m.\u001B[0m\u001B[0mstatus\u001B[0m\u001B[1;33m)\u001B[0m\u001B[1;33m)\u001B[0m\u001B[1;33m,\u001B[0m\u001B[1;33m\u001B[0m\u001B[1;33m\u001B[0m\u001B[0m\n\u001B[1;32m--> 528\u001B[1;33m             c_api.TF_GetCode(self.status.status))\n\u001B[0m\u001B[0;32m    529\u001B[0m     \u001B[1;31m# Delete the underlying status object from memory otherwise it stays alive\u001B[0m\u001B[1;33m\u001B[0m\u001B[1;33m\u001B[0m\u001B[1;33m\u001B[0m\u001B[0m\n",
      "\u001B[1;31mNotFoundError\u001B[0m: Key _CHECKPOINTABLE_OBJECT_GRAPH not found in checkpoint",
      "\nDuring handling of the above exception, another exception occurred:\n",
      "\u001B[1;31mNotFoundError\u001B[0m                             Traceback (most recent call last)",
      "\u001B[1;32m~\\AppData\\Local\\Temp\\ipykernel_1028\\1404204179.py\u001B[0m in \u001B[0;36m<module>\u001B[1;34m\u001B[0m\n\u001B[0;32m      1\u001B[0m \u001B[1;32mif\u001B[0m \u001B[0mos\u001B[0m\u001B[1;33m.\u001B[0m\u001B[0mpath\u001B[0m\u001B[1;33m.\u001B[0m\u001B[0mexists\u001B[0m\u001B[1;33m(\u001B[0m\u001B[1;34m'{}.meta'\u001B[0m\u001B[1;33m.\u001B[0m\u001B[0mformat\u001B[0m\u001B[1;33m(\u001B[0m\u001B[0mMODEL_NAME\u001B[0m\u001B[1;33m)\u001B[0m\u001B[1;33m)\u001B[0m\u001B[1;33m:\u001B[0m\u001B[1;33m\u001B[0m\u001B[1;33m\u001B[0m\u001B[0m\n\u001B[1;32m----> 2\u001B[1;33m     \u001B[0mmodel\u001B[0m\u001B[1;33m.\u001B[0m\u001B[0mload\u001B[0m\u001B[1;33m(\u001B[0m\u001B[0mMODEL_NAME\u001B[0m\u001B[1;33m)\u001B[0m\u001B[1;33m\u001B[0m\u001B[1;33m\u001B[0m\u001B[0m\n\u001B[0m\u001B[0;32m      3\u001B[0m     \u001B[0mprint\u001B[0m\u001B[1;33m(\u001B[0m\u001B[1;34m'EXISTING MODEL LOADED!!!'\u001B[0m\u001B[1;33m)\u001B[0m\u001B[1;33m\u001B[0m\u001B[1;33m\u001B[0m\u001B[0m\n",
      "\u001B[1;32m~\\PycharmProjects\\pythonProject2\\venv\\lib\\site-packages\\tflearn\\models\\dnn.py\u001B[0m in \u001B[0;36mload\u001B[1;34m(self, model_file, weights_only, **optargs)\u001B[0m\n\u001B[0;32m    306\u001B[0m                      \u001B[0mcreated\u001B[0m \u001B[1;32mfor\u001B[0m \u001B[0mthe\u001B[0m \u001B[0mrestored\u001B[0m \u001B[0mvariables\u001B[0m\u001B[1;33m.\u001B[0m\u001B[1;33m\u001B[0m\u001B[1;33m\u001B[0m\u001B[0m\n\u001B[0;32m    307\u001B[0m         \"\"\"\n\u001B[1;32m--> 308\u001B[1;33m         \u001B[0mself\u001B[0m\u001B[1;33m.\u001B[0m\u001B[0mtrainer\u001B[0m\u001B[1;33m.\u001B[0m\u001B[0mrestore\u001B[0m\u001B[1;33m(\u001B[0m\u001B[0mmodel_file\u001B[0m\u001B[1;33m,\u001B[0m \u001B[0mweights_only\u001B[0m\u001B[1;33m,\u001B[0m \u001B[1;33m**\u001B[0m\u001B[0moptargs\u001B[0m\u001B[1;33m)\u001B[0m\u001B[1;33m\u001B[0m\u001B[1;33m\u001B[0m\u001B[0m\n\u001B[0m\u001B[0;32m    309\u001B[0m         \u001B[0mself\u001B[0m\u001B[1;33m.\u001B[0m\u001B[0msession\u001B[0m \u001B[1;33m=\u001B[0m \u001B[0mself\u001B[0m\u001B[1;33m.\u001B[0m\u001B[0mtrainer\u001B[0m\u001B[1;33m.\u001B[0m\u001B[0msession\u001B[0m\u001B[1;33m\u001B[0m\u001B[1;33m\u001B[0m\u001B[0m\n\u001B[0;32m    310\u001B[0m         self.predictor = Evaluator([self.net],\n",
      "\u001B[1;32m~\\PycharmProjects\\pythonProject2\\venv\\lib\\site-packages\\tflearn\\helpers\\trainer.py\u001B[0m in \u001B[0;36mrestore\u001B[1;34m(self, model_file, trainable_variable_only, variable_name_map, scope_for_restore, create_new_session, verbose)\u001B[0m\n\u001B[0;32m    488\u001B[0m             \u001B[0mrestorer\u001B[0m\u001B[1;33m.\u001B[0m\u001B[0mrestore\u001B[0m\u001B[1;33m(\u001B[0m\u001B[0mself\u001B[0m\u001B[1;33m.\u001B[0m\u001B[0msession\u001B[0m\u001B[1;33m,\u001B[0m \u001B[0mmodel_file\u001B[0m\u001B[1;33m)\u001B[0m\u001B[1;33m\u001B[0m\u001B[1;33m\u001B[0m\u001B[0m\n\u001B[0;32m    489\u001B[0m         \u001B[1;32melif\u001B[0m \u001B[1;32mnot\u001B[0m \u001B[0mtrainable_variable_only\u001B[0m\u001B[1;33m:\u001B[0m\u001B[1;33m\u001B[0m\u001B[1;33m\u001B[0m\u001B[0m\n\u001B[1;32m--> 490\u001B[1;33m             \u001B[0mself\u001B[0m\u001B[1;33m.\u001B[0m\u001B[0mrestorer\u001B[0m\u001B[1;33m.\u001B[0m\u001B[0mrestore\u001B[0m\u001B[1;33m(\u001B[0m\u001B[0mself\u001B[0m\u001B[1;33m.\u001B[0m\u001B[0msession\u001B[0m\u001B[1;33m,\u001B[0m \u001B[0mmodel_file\u001B[0m\u001B[1;33m)\u001B[0m\u001B[1;33m\u001B[0m\u001B[1;33m\u001B[0m\u001B[0m\n\u001B[0m\u001B[0;32m    491\u001B[0m         \u001B[1;32melse\u001B[0m\u001B[1;33m:\u001B[0m\u001B[1;33m\u001B[0m\u001B[1;33m\u001B[0m\u001B[0m\n\u001B[0;32m    492\u001B[0m             \u001B[0mself\u001B[0m\u001B[1;33m.\u001B[0m\u001B[0mrestorer_trainvars\u001B[0m\u001B[1;33m.\u001B[0m\u001B[0mrestore\u001B[0m\u001B[1;33m(\u001B[0m\u001B[0mself\u001B[0m\u001B[1;33m.\u001B[0m\u001B[0msession\u001B[0m\u001B[1;33m,\u001B[0m \u001B[0mmodel_file\u001B[0m\u001B[1;33m)\u001B[0m\u001B[1;33m\u001B[0m\u001B[1;33m\u001B[0m\u001B[0m\n",
      "\u001B[1;32m~\\PycharmProjects\\pythonProject2\\venv\\lib\\site-packages\\tensorflow\\python\\training\\saver.py\u001B[0m in \u001B[0;36mrestore\u001B[1;34m(self, sess, save_path)\u001B[0m\n\u001B[0;32m   1290\u001B[0m         \u001B[1;31m# a helpful message (b/110263146)\u001B[0m\u001B[1;33m\u001B[0m\u001B[1;33m\u001B[0m\u001B[1;33m\u001B[0m\u001B[0m\n\u001B[0;32m   1291\u001B[0m         raise _wrap_restore_error_with_msg(\n\u001B[1;32m-> 1292\u001B[1;33m             err, \"a Variable name or other graph key that is missing\")\n\u001B[0m\u001B[0;32m   1293\u001B[0m \u001B[1;33m\u001B[0m\u001B[0m\n\u001B[0;32m   1294\u001B[0m       \u001B[1;31m# This is an object-based checkpoint. We'll print a warning and then do\u001B[0m\u001B[1;33m\u001B[0m\u001B[1;33m\u001B[0m\u001B[1;33m\u001B[0m\u001B[0m\n",
      "\u001B[1;31mNotFoundError\u001B[0m: Restoring from checkpoint failed. This is most likely due to a Variable name or other graph key that is missing from the checkpoint. Please ensure that you have not altered the graph expected based on the checkpoint. Original error:\n\nKey Accuracy/Mean/moving_avg_1 not found in checkpoint\n\t [[node save_18/RestoreV2 (defined at C:\\Users\\duong\\PycharmProjects\\pythonProject2\\venv\\lib\\site-packages\\tflearn\\helpers\\trainer.py:147) ]]\n\nCaused by op 'save_18/RestoreV2', defined at:\n  File \"C:\\Users\\duong\\AppData\\Local\\Programs\\Python\\Python37\\lib\\runpy.py\", line 193, in _run_module_as_main\n    \"__main__\", mod_spec)\n  File \"C:\\Users\\duong\\AppData\\Local\\Programs\\Python\\Python37\\lib\\runpy.py\", line 85, in _run_code\n    exec(code, run_globals)\n  File \"C:\\Users\\duong\\PycharmProjects\\pythonProject2\\venv\\lib\\site-packages\\ipykernel_launcher.py\", line 17, in <module>\n    app.launch_new_instance()\n  File \"C:\\Users\\duong\\PycharmProjects\\pythonProject2\\venv\\lib\\site-packages\\traitlets\\config\\application.py\", line 1043, in launch_instance\n    app.start()\n  File \"C:\\Users\\duong\\PycharmProjects\\pythonProject2\\venv\\lib\\site-packages\\ipykernel\\kernelapp.py\", line 712, in start\n    self.io_loop.start()\n  File \"C:\\Users\\duong\\PycharmProjects\\pythonProject2\\venv\\lib\\site-packages\\tornado\\platform\\asyncio.py\", line 215, in start\n    self.asyncio_loop.run_forever()\n  File \"C:\\Users\\duong\\AppData\\Local\\Programs\\Python\\Python37\\lib\\asyncio\\base_events.py\", line 538, in run_forever\n    self._run_once()\n  File \"C:\\Users\\duong\\AppData\\Local\\Programs\\Python\\Python37\\lib\\asyncio\\base_events.py\", line 1782, in _run_once\n    handle._run()\n  File \"C:\\Users\\duong\\AppData\\Local\\Programs\\Python\\Python37\\lib\\asyncio\\events.py\", line 88, in _run\n    self._context.run(self._callback, *self._args)\n  File \"C:\\Users\\duong\\PycharmProjects\\pythonProject2\\venv\\lib\\site-packages\\ipykernel\\kernelbase.py\", line 510, in dispatch_queue\n    await self.process_one()\n  File \"C:\\Users\\duong\\PycharmProjects\\pythonProject2\\venv\\lib\\site-packages\\ipykernel\\kernelbase.py\", line 499, in process_one\n    await dispatch(*args)\n  File \"C:\\Users\\duong\\PycharmProjects\\pythonProject2\\venv\\lib\\site-packages\\ipykernel\\kernelbase.py\", line 406, in dispatch_shell\n    await result\n  File \"C:\\Users\\duong\\PycharmProjects\\pythonProject2\\venv\\lib\\site-packages\\ipykernel\\kernelbase.py\", line 730, in execute_request\n    reply_content = await reply_content\n  File \"C:\\Users\\duong\\PycharmProjects\\pythonProject2\\venv\\lib\\site-packages\\ipykernel\\ipkernel.py\", line 387, in do_execute\n    cell_id=cell_id,\n  File \"C:\\Users\\duong\\PycharmProjects\\pythonProject2\\venv\\lib\\site-packages\\ipykernel\\zmqshell.py\", line 528, in run_cell\n    return super().run_cell(*args, **kwargs)\n  File \"C:\\Users\\duong\\PycharmProjects\\pythonProject2\\venv\\lib\\site-packages\\IPython\\core\\interactiveshell.py\", line 2976, in run_cell\n    raw_cell, store_history, silent, shell_futures, cell_id\n  File \"C:\\Users\\duong\\PycharmProjects\\pythonProject2\\venv\\lib\\site-packages\\IPython\\core\\interactiveshell.py\", line 3030, in _run_cell\n    return runner(coro)\n  File \"C:\\Users\\duong\\PycharmProjects\\pythonProject2\\venv\\lib\\site-packages\\IPython\\core\\async_helpers.py\", line 78, in _pseudo_sync_runner\n    coro.send(None)\n  File \"C:\\Users\\duong\\PycharmProjects\\pythonProject2\\venv\\lib\\site-packages\\IPython\\core\\interactiveshell.py\", line 3258, in run_cell_async\n    interactivity=interactivity, compiler=compiler, result=result)\n  File \"C:\\Users\\duong\\PycharmProjects\\pythonProject2\\venv\\lib\\site-packages\\IPython\\core\\interactiveshell.py\", line 3473, in run_ast_nodes\n    if (await self.run_code(code, result,  async_=asy)):\n  File \"C:\\Users\\duong\\PycharmProjects\\pythonProject2\\venv\\lib\\site-packages\\IPython\\core\\interactiveshell.py\", line 3553, in run_code\n    exec(code_obj, self.user_global_ns, self.user_ns)\n  File \"C:\\Users\\duong\\AppData\\Local\\Temp\\ipykernel_1028\\2511015419.py\", line 47, in <module>\n    model = tflearn.DNN(convnet, tensorboard_dir='log')\n  File \"C:\\Users\\duong\\PycharmProjects\\pythonProject2\\venv\\lib\\site-packages\\tflearn\\models\\dnn.py\", line 65, in __init__\n    best_val_accuracy=best_val_accuracy)\n  File \"C:\\Users\\duong\\PycharmProjects\\pythonProject2\\venv\\lib\\site-packages\\tflearn\\helpers\\trainer.py\", line 147, in __init__\n    allow_empty=True)\n  File \"C:\\Users\\duong\\PycharmProjects\\pythonProject2\\venv\\lib\\site-packages\\tensorflow\\python\\training\\saver.py\", line 832, in __init__\n    self.build()\n  File \"C:\\Users\\duong\\PycharmProjects\\pythonProject2\\venv\\lib\\site-packages\\tensorflow\\python\\training\\saver.py\", line 844, in build\n    self._build(self._filename, build_save=True, build_restore=True)\n  File \"C:\\Users\\duong\\PycharmProjects\\pythonProject2\\venv\\lib\\site-packages\\tensorflow\\python\\training\\saver.py\", line 881, in _build\n    build_save=build_save, build_restore=build_restore)\n  File \"C:\\Users\\duong\\PycharmProjects\\pythonProject2\\venv\\lib\\site-packages\\tensorflow\\python\\training\\saver.py\", line 513, in _build_internal\n    restore_sequentially, reshape)\n  File \"C:\\Users\\duong\\PycharmProjects\\pythonProject2\\venv\\lib\\site-packages\\tensorflow\\python\\training\\saver.py\", line 332, in _AddRestoreOps\n    restore_sequentially)\n  File \"C:\\Users\\duong\\PycharmProjects\\pythonProject2\\venv\\lib\\site-packages\\tensorflow\\python\\training\\saver.py\", line 580, in bulk_restore\n    return io_ops.restore_v2(filename_tensor, names, slices, dtypes)\n  File \"C:\\Users\\duong\\PycharmProjects\\pythonProject2\\venv\\lib\\site-packages\\tensorflow\\python\\ops\\gen_io_ops.py\", line 1655, in restore_v2\n    name=name)\n  File \"C:\\Users\\duong\\PycharmProjects\\pythonProject2\\venv\\lib\\site-packages\\tensorflow\\python\\framework\\op_def_library.py\", line 788, in _apply_op_helper\n    op_def=op_def)\n  File \"C:\\Users\\duong\\PycharmProjects\\pythonProject2\\venv\\lib\\site-packages\\tensorflow\\python\\util\\deprecation.py\", line 507, in new_func\n    return func(*args, **kwargs)\n  File \"C:\\Users\\duong\\PycharmProjects\\pythonProject2\\venv\\lib\\site-packages\\tensorflow\\python\\framework\\ops.py\", line 3300, in create_op\n    op_def=op_def)\n  File \"C:\\Users\\duong\\PycharmProjects\\pythonProject2\\venv\\lib\\site-packages\\tensorflow\\python\\framework\\ops.py\", line 1801, in __init__\n    self._traceback = tf_stack.extract_stack()\n\nNotFoundError (see above for traceback): Restoring from checkpoint failed. This is most likely due to a Variable name or other graph key that is missing from the checkpoint. Please ensure that you have not altered the graph expected based on the checkpoint. Original error:\n\nKey Accuracy/Mean/moving_avg_1 not found in checkpoint\n\t [[node save_18/RestoreV2 (defined at C:\\Users\\duong\\PycharmProjects\\pythonProject2\\venv\\lib\\site-packages\\tflearn\\helpers\\trainer.py:147) ]]\n"
     ]
    }
   ],
   "source": [
    "if os.path.exists('{}.meta'.format(MODEL_NAME)):\n",
    "    model.load(MODEL_NAME)\n",
    "    print('EXISTING MODEL LOADED!!!')"
   ]
  },
  {
   "cell_type": "markdown",
   "metadata": {},
   "source": [
    "# Processing"
   ]
  },
  {
   "cell_type": "code",
   "execution_count": null,
   "metadata": {
    "ExecuteTime": {
     "start_time": "2023-05-09T13:57:05.803085Z",
     "end_time": "2023-05-09T13:57:05.818722Z"
    }
   },
   "outputs": [],
   "source": [
    "train = train_data[:-500]\n",
    "test = train_data[-500:]"
   ]
  },
  {
   "cell_type": "code",
   "execution_count": null,
   "metadata": {
    "ExecuteTime": {
     "start_time": "2023-05-09T13:57:05.818722Z",
     "end_time": "2023-05-09T13:57:05.865607Z"
    }
   },
   "outputs": [],
   "source": [
    "X = np.array([i[0] for i in train]).reshape(-1, IMG_SIZE, IMG_SIZE, 1)\n",
    "Y = [i[1] for i in train]\n",
    "\n",
    "test_x = np.array([i[0] for i in test]).reshape(-1, IMG_SIZE, IMG_SIZE, 1)\n",
    "test_y = [i[1] for i in test]"
   ]
  },
  {
   "cell_type": "markdown",
   "metadata": {},
   "source": [
    "# Training"
   ]
  },
  {
   "cell_type": "code",
   "execution_count": null,
   "metadata": {
    "ExecuteTime": {
     "start_time": "2023-05-09T13:57:05.834350Z",
     "end_time": "2023-05-09T13:57:51.577088Z"
    }
   },
   "outputs": [],
   "source": [
    "model.fit(\n",
    "    {'input': X}, \n",
    "    {'targets': Y}, \n",
    "    n_epoch=EPOCHE, \n",
    "    validation_set=({'input': test_x}, {'targets': test_y}), \n",
    "    snapshot_step=500, show_metric=True, run_id=MODEL_NAME\n",
    ")"
   ]
  },
  {
   "cell_type": "code",
   "execution_count": null,
   "metadata": {
    "ExecuteTime": {
     "start_time": "2023-05-09T13:57:51.577088Z",
     "end_time": "2023-05-09T13:57:51.855930Z"
    }
   },
   "outputs": [],
   "source": [
    "model.save(MODEL_NAME)"
   ]
  },
  {
   "cell_type": "code",
   "execution_count": null,
   "metadata": {
    "ExecuteTime": {
     "start_time": "2023-05-09T13:57:51.855930Z",
     "end_time": "2023-05-09T13:57:51.871560Z"
    }
   },
   "outputs": [],
   "source": [
    "#tensorboard --logdir=foo:/home/yerkebulan/app/dev/projects/classification_research/log"
   ]
  },
  {
   "cell_type": "markdown",
   "metadata": {},
   "source": [
    "# Testing"
   ]
  },
  {
   "cell_type": "code",
   "execution_count": null,
   "metadata": {},
   "outputs": [],
   "source": [
    "import matplotlib.pyplot as plt\n",
    "# need to load_data\n",
    "# test_data = create_test_data()\n",
    "# if already created\n",
    "test_data = np.load('test_data.npy', allow_pickle=True)\n",
    "\n",
    "fig = plt.figure(figsize=(12, 12))\n",
    "\n",
    "for i, data in enumerate(test_data[80:100]):\n",
    "    # cat = [1,0]\n",
    "    # dog = [0,1]\n",
    "    img_id = data[1]\n",
    "    img_data = data[0]\n",
    "    \n",
    "    y = fig.add_subplot(4,5,i+1)\n",
    "    orig = img_data\n",
    "    data = img_data.reshape(IMG_SIZE, IMG_SIZE, 1)\n",
    "    \n",
    "    prediction = model.predict([data])[0]\n",
    "    \n",
    "    label = 'CAT'\n",
    "    if np.argmax(prediction) == 1:\n",
    "        label = 'DOG'\n",
    "    y.imshow(orig)\n",
    "    plt.title(label)\n",
    "    y.axes.get_xaxis().set_visible(False)\n",
    "    y.axes.get_yaxis().set_visible(False)\n",
    "plt.show()\n"
   ]
  },
  {
   "cell_type": "code",
   "execution_count": null,
   "metadata": {},
   "outputs": [],
   "source": [
    "with open('submission-file.csv', 'w') as f:\n",
    "    f.write('id,label\\n')"
   ]
  },
  {
   "cell_type": "code",
   "execution_count": null,
   "metadata": {},
   "outputs": [],
   "source": [
    "with open('submission-file.csv', 'a') as f:\n",
    "    for data in tqdm(test_data):\n",
    "        img_id = data[1]\n",
    "        img_data = data[0]\n",
    "\n",
    "        orig = img_data\n",
    "        data = img_data.reshape(IMG_SIZE, IMG_SIZE, 1)\n",
    "\n",
    "        prediction = model.predict([data])[0]\n",
    "        f.write('{},{}\\n'.format(img_id, prediction[1]))"
   ]
  }
 ],
 "metadata": {
  "kernelspec": {
   "display_name": "Python 3",
   "language": "python",
   "name": "python3"
  },
  "language_info": {
   "codemirror_mode": {
    "name": "ipython",
    "version": 3
   },
   "file_extension": ".py",
   "mimetype": "text/x-python",
   "name": "python",
   "nbconvert_exporter": "python",
   "pygments_lexer": "ipython3",
   "version": "3.6.7"
  }
 },
 "nbformat": 4,
 "nbformat_minor": 2
}
